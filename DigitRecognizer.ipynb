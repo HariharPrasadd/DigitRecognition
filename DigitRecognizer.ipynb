{
 "cells": [
  {
   "cell_type": "code",
   "execution_count": null,
   "metadata": {},
   "outputs": [],
   "source": [
    "import numpy as np\n",
    "import pandas as pd\n",
    "from matplotlib import pyplot as plt\n",
    "\n",
    "data = pd.read_csv(\"/Users/hariharprasad/MyDocuments/Code/Python/MNIST with NumPy/Datasets/mnist_train.csv\")"
   ]
  },
  {
   "cell_type": "code",
   "execution_count": null,
   "metadata": {},
   "outputs": [],
   "source": [
    "data = np.array(data) \n",
    "m,n = data.shape\n",
    "np.random.shuffle(data)\n",
    "\n",
    "data_dev = data[0:1000].T #transposing the data to have one image per row, and a label row instead of a label column\n",
    "Y_dev = data_dev[0] #array of all the labels of the testing data\n",
    "X_dev = data_dev[1:n] #array of all the actual pixel values of the testing data\n",
    "X_dev = X_dev/255. #normalising the data from a range of 0 to 255 to 0 to 1\n",
    "\n",
    "data_train = data[1000:m].T #transposing the data to have one image per row, and a label row instead of a label column\n",
    "Y_train = data_train[0] #array of all the labels of the training data \n",
    "X_train = data_train[1:n] #array of all the actual pixel values of the training data\n",
    "X_train = X_train / 255. #normalising the data from a range of 0 to 255 to 0 to 1"
   ]
  },
  {
   "cell_type": "code",
   "execution_count": null,
   "metadata": {},
   "outputs": [],
   "source": [
    "def init_params(): #initiating all weights and biases with a value between -0.5 and 0.5\n",
    "    W1 = np.random.rand(10, 784) - 0.5\n",
    "    b1 = np.random.rand(10,1) - 0.5\n",
    "    W2 = np.random.rand(10,10) - 0.5\n",
    "    b2 = np.random.rand(10,1) - 0.5\n",
    "    return W1, b1, W2, b2\n",
    "\n",
    "def ReLU(Z): #implementing the Rectified Linear Unit function to return Z if Z > 0, and 0 otherwise\n",
    "    return np.maximum(Z,0)\n",
    "\n",
    "def ReLU_deriv(Z): #returning the derivative of the ReLU function, which is 0 if Z is less than or equal to 0, or 1 otherwise (graph of ReLU is just a straight line)\n",
    "    return Z > 0\n",
    "\n",
    "def softmax(Z): #softmax function to be implemented for normalisation of output layer between 0 and 1. e^one_value/e^every value\n",
    "    A = np.exp(Z) / sum(np.exp(Z))\n",
    "    return A\n",
    "\n",
    "def one_hot(Y): #converting labels to one hot encoded array between 0 to 1, with the corresponding index being 1 and all other indexes being 0\n",
    "     one_hot_Y = np.zeros((Y.size, Y.max() + 1))\n",
    "     one_hot_Y[np.arange(Y.size), Y] = 1\n",
    "     one_hot_Y = one_hot_Y.T\n",
    "     return one_hot_Y\n",
    "\n",
    "def forward_prop(W1, b1, W2, b2, X): #forward propagation, getting values with the random initial weights and biases\n",
    "    Z1 = W1.dot(X) + b1\n",
    "    A1 = ReLU(Z1)\n",
    "    Z2 = W2.dot(A1) + b2\n",
    "    A2 = softmax(Z2)\n",
    "    return Z1, A1, Z2, A2\n",
    "\n",
    "def backward_prop(Z1, A1, Z2, A2, W1, W2, X, Y): #backward propagation, modifying the weights and biases to minimise the loss function\n",
    "    one_hot_y = one_hot(Y)\n",
    "    dZ2 = A2 - one_hot_y\n",
    "    dW2 = 1/m*dZ2.dot(A1.T)\n",
    "    db2 = 1/m*np.sum(dZ2)\n",
    "    dZ1 = W2.T.dot(dZ2) * ReLU_deriv(Z1)\n",
    "    dW1 = 1/m*dZ1.dot(X.T)\n",
    "    db1 = 1/m*np.sum(dZ1)\n",
    "    return dW1, db1, dW2, db2\n",
    "\n",
    "def update_params(W1, b1, W2, b2, dW1, db1, dW2, db2, alpha): #updating the parameters to reduce the loss function\n",
    "    W1 = W1 - alpha*dW1\n",
    "    b1 = b1 - alpha * db1\n",
    "    W2 = W2 -alpha * dW2\n",
    "    b2 = b2 - alpha * db2\n",
    "    return W1, b1, W2, b2"
   ]
  },
  {
   "cell_type": "code",
   "execution_count": null,
   "metadata": {},
   "outputs": [],
   "source": [
    "def get_predictions(A2): #getting predictions from network\n",
    "    return np.argmax(A2,0) #getting index with highest value across 0th axis \n",
    "\n",
    "def get_accuracy(predictions, Y): #calculating accuracy of predictions\n",
    "    print(predictions, Y)\n",
    "    return np.sum(predictions == Y) / Y.size\n",
    "\n",
    "def gradient_descent(X, Y, alpha, iterations): #calling all the functions in order to perform gradient descent\n",
    "    W1, b1, W2, b2 = init_params()\n",
    "    for i in range(iterations):\n",
    "        Z1, A1, Z2, A2 = forward_prop(W1, b1, W2, b2, X)\n",
    "        dW1, db1, dW2, db2 = backward_prop(Z1, A1, Z2, A2, W1, W2, X, Y)\n",
    "        W1, b1, W2, b2 = update_params(W1, b1, W2, b2, dW1, db1, dW2, db2, alpha)\n",
    "        if i % 10 == 0:\n",
    "            print(\"Iteration: \", i)\n",
    "            predictions = get_predictions(A2)\n",
    "            print(get_accuracy(predictions, Y))\n",
    "    return W1, b1, W2, b2"
   ]
  },
  {
   "cell_type": "code",
   "execution_count": null,
   "metadata": {},
   "outputs": [],
   "source": [
    "W1, b1, W2, b2 = gradient_descent(X_train, Y_train, 0.10, 500) #setting learning rate and number of iterations"
   ]
  },
  {
   "cell_type": "code",
   "execution_count": null,
   "metadata": {},
   "outputs": [],
   "source": [
    "def make_predictions(X, W1, b1, W2, b2):\n",
    "    _, _, _, A2 = forward_prop(W1, b1, W2, b2, X)\n",
    "    predictions = get_predictions(A2)\n",
    "    return predictions\n",
    "\n",
    "def test_prediction(index, W1, b1, W2, b2):\n",
    "    current_image = X_dev[:, index, None]\n",
    "    prediction = make_predictions(current_image, W1, b1, W2, b2)\n",
    "    label = Y_dev[index]\n",
    "    print(\"Prediction: \", prediction)\n",
    "    print(\"Label: \", label)\n",
    "\n",
    "    current_image = current_image.reshape((28, 28)) * 255\n",
    "    plt.gray()\n",
    "    plt.imshow(current_image, interpolation = \"nearest\")\n",
    "    plt.show()\n",
    "\n",
    "test_prediction(2, W1, b1, W2, b2)"
   ]
  }
 ],
 "metadata": {
  "kernelspec": {
   "display_name": "Python 3",
   "language": "python",
   "name": "python3"
  },
  "language_info": {
   "codemirror_mode": {
    "name": "ipython",
    "version": 3
   },
   "file_extension": ".py",
   "mimetype": "text/x-python",
   "name": "python",
   "nbconvert_exporter": "python",
   "pygments_lexer": "ipython3",
   "version": "3.11.4"
  },
  "orig_nbformat": 4
 },
 "nbformat": 4,
 "nbformat_minor": 2
}
